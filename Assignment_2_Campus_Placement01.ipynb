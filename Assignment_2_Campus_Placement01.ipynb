{
  "nbformat": 4,
  "nbformat_minor": 0,
  "metadata": {
    "colab": {
      "private_outputs": true,
      "provenance": []
    },
    "kernelspec": {
      "name": "python3",
      "display_name": "Python 3"
    },
    "language_info": {
      "name": "python"
    }
  },
  "cells": [
    {
      "cell_type": "code",
      "execution_count": null,
      "metadata": {
        "id": "JhGMRuNlFUtb"
      },
      "outputs": [],
      "source": [
        "import pandas as pd\n",
        "import matplotlib.pyplot as plt\n",
        "import seaborn as sns\n",
        "from sklearn.model_selection import train_test_split\n",
        "from sklearn.preprocessing import LabelEncoder\n",
        "from sklearn.linear_model import LogisticRegression\n",
        "from sklearn.ensemble import RandomForestClassifier, VotingClassifier\n",
        "from sklearn.svm import SVC\n",
        "from sklearn.metrics import accuracy_score, precision_score, recall_score, f1_score, confusion_matrix, ConfusionMatrixDisplay\n",
        "\n",
        "# 1. Dataset Selection\n",
        "train_df = pd.read_csv(\"train.csv\")\n",
        "test_df = pd.read_csv(\"test.csv\")\n",
        "submission_df = pd.read_csv(\"SampleSubmission.csv\")"
      ]
    },
    {
      "cell_type": "code",
      "source": [
        "# 2. Data Preprocessing\n",
        "# Drop 'sl_no' as it's not useful\n",
        "train_df.drop('sl_no', axis=1, inplace=True)\n",
        "\n",
        "# Fill missing 'salary' values with 0 (implies Not Placed)\n",
        "train_df['salary'] = train_df['salary'].fillna(0)\n",
        "\n",
        "\n",
        "# Encode 'status' column: Placed = 1, Not Placed = 0\n",
        "train_df['status'] = train_df['status'].map({'Placed': 1, 'Not Placed': 0})\n",
        "\n",
        "# Label encode all object (categorical) columns\n",
        "le = LabelEncoder()\n",
        "for col in train_df.select_dtypes(include='object').columns:\n",
        "    train_df[col] = le.fit_transform(train_df[col])"
      ],
      "metadata": {
        "id": "GC0HNYC0GlAd"
      },
      "execution_count": null,
      "outputs": []
    },
    {
      "cell_type": "code",
      "source": [
        "#3\n",
        "plt.figure(figsize=(10, 6))\n",
        "sns.heatmap(train_df.corr(), annot=True, fmt=\".2f\")\n",
        "plt.title(\"Correlation Matrix\")\n",
        "plt.show()"
      ],
      "metadata": {
        "id": "mMlip8pXHmU_"
      },
      "execution_count": null,
      "outputs": []
    },
    {
      "cell_type": "code",
      "source": [
        "# 4. Feature and Target Selection\n",
        "X = train_df.drop(['status', 'salary'], axis=1)  # Features\n",
        "y = train_df['status']  # Target\n",
        "\n",
        "# 5. Train-Test Split\n",
        "X_train, X_val, y_train, y_val = train_test_split(X, y, test_size=0.3, random_state=42)\n",
        "\n",
        "# 6. Model Selection and Training\n",
        "models = {\n",
        "    \"Logistic Regression\": LogisticRegression(max_iter=1000),\n",
        "    \"Random Forest\": RandomForestClassifier(n_estimators=100, random_state=42),\n",
        "    \"SVM\": SVC(probability=True)\n",
        "}"
      ],
      "metadata": {
        "id": "uVmxpc9kHxHg"
      },
      "execution_count": null,
      "outputs": []
    },
    {
      "cell_type": "code",
      "source": [
        "# Train each model\n",
        "for name, model in models.items():\n",
        "    model.fit(X_train, y_train)\n",
        "    print(f\"{name} trained.\")\n",
        "\n",
        "# 7. Model Evaluation\n",
        "for name, model in models.items():\n",
        "    y_pred = model.predict(X_val)\n",
        "    print(f\"\\n--- {name} ---\")\n",
        "    print(\"Accuracy:\", accuracy_score(y_val, y_pred))\n",
        "    print(\"Precision:\", precision_score(y_val, y_pred))\n",
        "    print(\"Recall:\", recall_score(y_val, y_pred))\n",
        "    print(\"F1 Score:\", f1_score(y_val, y_pred))\n",
        "\n",
        "    cm = confusion_matrix(y_val, y_pred)\n",
        "    ConfusionMatrixDisplay(confusion_matrix=cm).plot()\n",
        "    plt.title(f\"{name} Confusion Matrix\")\n",
        "    plt.show()"
      ],
      "metadata": {
        "id": "gRrOnEvIIL2c"
      },
      "execution_count": null,
      "outputs": []
    },
    {
      "cell_type": "code",
      "source": [
        "# 9. Voting Classifier Implementation\n",
        "voting_clf = VotingClassifier(estimators=[\n",
        "    ('lr', models[\"Logistic Regression\"]),\n",
        "    ('rf', models[\"Random Forest\"]),\n",
        "    ('svm', models[\"SVM\"])\n",
        "], voting='soft')\n",
        "\n",
        "voting_clf.fit(X_train, y_train)\n",
        "y_pred_voting = voting_clf.predict(X_val)\n",
        "\n",
        "# Evaluate Voting Classifier\n",
        "print(\"\\n--- Voting Classifier ---\")\n",
        "print(\"Accuracy:\", accuracy_score(y_val, y_pred_voting))\n",
        "print(\"Precision:\", precision_score(y_val, y_pred_voting))\n",
        "print(\"Recall:\", recall_score(y_val, y_pred_voting))\n",
        "print(\"F1 Score:\", f1_score(y_val, y_pred_voting))\n",
        "\n",
        "cm = confusion_matrix(y_val, y_pred_voting)\n",
        "ConfusionMatrixDisplay(confusion_matrix=cm).plot()\n",
        "plt.title(\"Voting Classifier Confusion Matrix\")\n",
        "plt.show()"
      ],
      "metadata": {
        "id": "G2iqxKJAIX3_"
      },
      "execution_count": null,
      "outputs": []
    },
    {
      "cell_type": "code",
      "source": [
        "# 10. output\n",
        "\n",
        "# Drop 'sl_no' if exists\n",
        "if 'sl_no' in test_df.columns:\n",
        "    test_df.drop('sl_no', axis=1, inplace=True)\n",
        "\n",
        "# Drop 'salary' if exists (some test sets may have it)\n",
        "if 'salary' in test_df.columns:\n",
        "    test_df.drop('salary', axis=1, inplace=True)\n",
        "\n",
        "# Fill missing values with 0\n",
        "test_df.fillna(0, inplace=True)\n",
        "\n",
        "# Encode categorical columns using the same logic as train_df\n",
        "for col in test_df.select_dtypes(include='object').columns:\n",
        "    if col in train_df.columns:\n",
        "        # Use the unique values from train_df to build a consistent mapping\n",
        "        train_col_values = train_df[col].unique()\n",
        "        mapping = {label: idx for idx, label in enumerate(train_col_values)}\n",
        "        test_df[col] = test_df[col].map(mapping).fillna(-1).astype(int)\n",
        "\n",
        "# Ensure all columns from training features are present in test_df\n",
        "for col in X.columns:\n",
        "    if col not in test_df.columns:\n",
        "        test_df[col] = 0  # or a neutral default like mean or -1\n",
        "\n",
        "# Match the column order\n",
        "X_test = test_df[X.columns]\n",
        "\n",
        "# Predict using the trained voting classifier\n",
        "test_preds = voting_clf.predict(X_test)\n",
        "\n",
        "# Save predictions to submission file\n",
        "submission_df['Salary'] = test_preds\n",
        "submission_df.to_csv(\"result.csv\", index=False)\n",
        "print(\"\\n Submission file 'result.csv' created.\")\n"
      ],
      "metadata": {
        "id": "zoZsLfZkKq-S"
      },
      "execution_count": null,
      "outputs": []
    }
  ]
}